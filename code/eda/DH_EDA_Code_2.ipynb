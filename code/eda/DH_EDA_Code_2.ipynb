{
 "cells": [
  {
   "cell_type": "code",
   "execution_count": 85,
   "metadata": {},
   "outputs": [],
   "source": [
    "import pandas as pd\n",
    "import numpy as np\n",
    "import matplotlib.pyplot as plt\n",
    "import matplotlib.font_manager as fm\n",
    "fe = fm.FontEntry(\n",
    "    fname=r'/usr/share/fonts/truetype/nanum/NanumGothic.ttf', # ttf 파일이 저장되어 있는 경로\n",
    "    name='NanumGothic')                        # 이 폰트의 원하는 이름 설정\n",
    "fm.fontManager.ttflist.insert(0, fe)              # Matplotlib에 폰트 추가\n",
    "plt.rcParams.update({'font.size': 10, 'font.family': 'NanumGothic'}) # 폰트 설정\n",
    "plt.rc('font', family='NanumGothic')\n",
    "import seaborn as sns"
   ]
  },
  {
   "cell_type": "code",
   "execution_count": 86,
   "metadata": {},
   "outputs": [],
   "source": [
    "df_train = pd.read_csv(\"../../data/train.csv\")\n",
    "df_test = pd.read_csv(\"../../data/submission.csv\")"
   ]
  },
  {
   "cell_type": "code",
   "execution_count": 87,
   "metadata": {},
   "outputs": [],
   "source": [
    "# # ID : Information Display 사업부문\n",
    "# # COHA : 사업영역이 Corporate/Office, Hotel/Accommodation\n",
    "# # COEHA : 사업영역이 Corporate/Office, Education, Hotel/Accommodation\n",
    "# # EC : End-Customer, End-User\n",
    "# # CORHA : 사업영역이 Corporate/Office, Retail, Hotel/Accommodation\n",
    "# # D : Display\n",
    "\n",
    "\n",
    "# train.rename(columns=({\"bant_submit\" : \"답변비율\",\n",
    "#                        \"customer_country\" : \"고객국적\",\n",
    "#                        \"business_unit\" : \"사업부\",\n",
    "#                        \"com_reg_ver_win_rate\" : \"기회비율\",\n",
    "#                        \"customer_idx\" : \"고객회사명\",\n",
    "#                        \"customer_type\" : \"고객유형\",\n",
    "#                        \"enterprise\" : \"기업유형\",\n",
    "#                        \"historical_existing_cnt\" : \"이전영업전환횟수\",\n",
    "#                        \"id_strategic_ver\" : \"ID-COHA여부\",\n",
    "#                        \"it_strategic_ver\" : \"IT-COHA여부\",\n",
    "#                        \"idit_strategic_ver\" : \"ID&IT-COHA여부\",\n",
    "#                        \"customer_job\" : \"고객직업군\",\n",
    "#                        \"lead_desc_length\" : \"잠재고객답변길이\",\n",
    "#                        \"inquiry_type\" : \"고객문의유형\",\n",
    "#                        \"product_category\" : \"요청제품분류\",\n",
    "#                        \"product_subcategory\" : \"요청제품하위분류\",\n",
    "#                        \"product_modelname\" : \"요청제품모델명\",\n",
    "#                        \"customer_country.1\" : \"담당자사지역정보\",\n",
    "#                        \"customer_position\" : \"고객회사직책\",\n",
    "#                        \"response_corporate\" : \"담당자사법인명\",\n",
    "#                        \"expected_timeline\" : \"요청처리일정\",\n",
    "#                        \"ver_cus\" : \"COEHAR-EC여부\",\n",
    "#                        \"ver_pro\" : \"CORHA-D여부\",\n",
    "#                        \"ver_win_rate_x\" : \"사업영역별전환성공비율\",\n",
    "#                        \"ver_win_ratio_per_bu\" : \"사업영역별-AS,ID,Sol부문성공전환비율\",\n",
    "#                        \"business_area\" : \"고객사업영역\",\n",
    "#                        \"business_subarea\" : \"고객사업영역-세부\",\n",
    "#                        \"lead_owner\" : \"영업담당자\",\n",
    "#                        \"is_converted\" : \"영업성공여부\"}), inplace=True)"
   ]
  },
  {
   "cell_type": "code",
   "execution_count": 88,
   "metadata": {},
   "outputs": [],
   "source": [
    "# # ID : Information Display 사업부문\n",
    "# # COHA : 사업영역이 Corporate/Office, Hotel/Accommodation\n",
    "# # COEHA : 사업영역이 Corporate/Office, Education, Hotel/Accommodation\n",
    "# # EC : End-Customer, End-User\n",
    "# # CORHA : 사업영역이 Corporate/Office, Retail, Hotel/Accommodation\n",
    "# # D : Display\n",
    "\n",
    "\n",
    "# test.rename(columns=({\"bant_submit\" : \"답변비율\",\n",
    "#                        \"customer_country\" : \"고객국적\",\n",
    "#                        \"business_unit\" : \"사업부\",\n",
    "#                        \"com_reg_ver_win_rate\" : \"기회비율\",\n",
    "#                        \"customer_idx\" : \"고객회사명\",\n",
    "#                        \"customer_type\" : \"고객유형\",\n",
    "#                        \"enterprise\" : \"기업유형\",\n",
    "#                        \"historical_existing_cnt\" : \"이전영업전환횟수\",\n",
    "#                        \"id_strategic_ver\" : \"ID-COHA여부\",\n",
    "#                        \"it_strategic_ver\" : \"IT-COHA여부\",\n",
    "#                        \"idit_strategic_ver\" : \"ID&IT-COHA여부\",\n",
    "#                        \"customer_job\" : \"고객직업군\",\n",
    "#                        \"lead_desc_length\" : \"잠재고객답변길이\",\n",
    "#                        \"inquiry_type\" : \"고객문의유형\",\n",
    "#                        \"product_category\" : \"요청제품분류\",\n",
    "#                        \"product_subcategory\" : \"요청제품하위분류\",\n",
    "#                        \"product_modelname\" : \"요청제품모델명\",\n",
    "#                        \"customer_country.1\" : \"담당자사지역정보\",\n",
    "#                        \"customer_position\" : \"고객회사직책\",\n",
    "#                        \"response_corporate\" : \"담당자사법인명\",\n",
    "#                        \"expected_timeline\" : \"요청처리일정\",\n",
    "#                        \"ver_cus\" : \"COEHAR-EC여부\",\n",
    "#                        \"ver_pro\" : \"CORHA-D여부\",\n",
    "#                        \"ver_win_rate_x\" : \"사업영역별전환성공비율\",\n",
    "#                        \"ver_win_ratio_per_bu\" : \"사업영역별-AS,ID,Sol부문성공전환비율\",\n",
    "#                        \"business_area\" : \"고객사업영역\",\n",
    "#                        \"business_subarea\" : \"고객사업영역-세부\",\n",
    "#                        \"lead_owner\" : \"영업담당자\",\n",
    "#                        \"is_converted\" : \"영업성공여부\"}), inplace=True)"
   ]
  },
  {
   "cell_type": "code",
   "execution_count": 89,
   "metadata": {},
   "outputs": [
    {
     "data": {
      "text/plain": [
       "array(['entry level', 'ceo/founder', 'partner', 'manager',\n",
       "       'vice president', 'associate/analyst', 'c-level executive', 'none',\n",
       "       'director', 'other', 'intern', 'trainee', 'others',\n",
       "       'this is a consume display requirement for home purpose.',\n",
       "       'vicepresident', 'consulting', 'entrylevel', 'c-levelexecutive',\n",
       "       'unpaid', 'physics teacher', 'assistant professor',\n",
       "       'av management', 'maths lecturer', 'founder', 'engineering',\n",
       "       'installer', 'homeowner', 'consultant', 'commercial end-user',\n",
       "       'employee', 'bulgaria', 'lider de desarrollo', 'administrative',\n",
       "       'entrepreneurship', 'decision-influencer', 'decision maker',\n",
       "       'customer', 'not applicable', 'decision-maker', 'no influence',\n",
       "       'commercial consultant', 'science teacher', 'decision influencer',\n",
       "       'technical', 'architecture/consult', 'architect/consultant',\n",
       "       'exhibition', 'hospital', 'end-user', 'government', 'manufacturer',\n",
       "       'software /solution provider', 'system integrator',\n",
       "       'medical device manufacturer', 'distributor',\n",
       "       'business unit director', 'business development', 'operations',\n",
       "       'vp', 'cargo', 'guest faculty', 'physics faculty', 'career coach',\n",
       "       'other - please specify - cedia association',\n",
       "       'leadership/executive office/owner', 'product management',\n",
       "       'market intelligence/research',\n",
       "       'teacher/middle school coordinator', 'prof.',\n",
       "       'academic specialist',\n",
       "       'principal at oxford integrated pu science college',\n",
       "       'math and physics teacher', 'professor of mathematics',\n",
       "       'physics and mathematics teacher', 'assistant professor of enlish',\n",
       "       'educator', 'professor', 'quantitative aptitude faculty',\n",
       "       'english trainer for ielts,toefl,pte,gre,sat exams.',\n",
       "       'associate professor', 'principal & director', 'business partner',\n",
       "       'hon dean', 'chairman', 'pgt physics', 'education professional',\n",
       "       'chemistry teacher',\n",
       "       'director cum faculty at gaining apex coaching centre',\n",
       "       'academic coordinator/ post graduate teacher (accountancy, business studies)/ tgt (ict)',\n",
       "       'teacher', 'senior lecturer', 'neet/ olympiad expert faculty',\n",
       "       'asst prof.', 'associate professor in electronics engg',\n",
       "       'professional trainer', 'co-founder', 'chief executive officer',\n",
       "       'subsidiary sales (ise)', 'ceo/fundador', 'gerente',\n",
       "       'medical imaging specialist', 'tierarzt', 'education', 'president',\n",
       "       'business development/sales', 'sales', 'técnico', 'exhibitiontv',\n",
       "       'proprietário(a)', 'genel müdür', 'mindenes', 'főorvos',\n",
       "       'surgery professional', 'pathologist', 'research', 'the big boss',\n",
       "       'radiology professional'], dtype=object)"
      ]
     },
     "execution_count": 89,
     "metadata": {},
     "output_type": "execute_result"
    }
   ],
   "source": [
    "df_train[\"customer_position\"].unique()"
   ]
  },
  {
   "cell_type": "code",
   "execution_count": 90,
   "metadata": {},
   "outputs": [
    {
     "data": {
      "text/plain": [
       "array(['none', 'manager', 'others', 'associate/analyst', 'director',\n",
       "       'entry level', 'ceo/founder', 'partner', 'c-level executive',\n",
       "       'trainee', 'vice president', 'intern', 'educator', 'other',\n",
       "       'customer',\n",
       "       'academic coordinator/ post graduate teacher (accountancy, business studies)/ tgt (ict)',\n",
       "       'assistant professor', 'math and physics teacher', 'pgt chemistry',\n",
       "       'director cum faculty at gaining apex coaching centre',\n",
       "       'professor', 'co-founder', 'asst prof.'], dtype=object)"
      ]
     },
     "execution_count": 90,
     "metadata": {},
     "output_type": "execute_result"
    }
   ],
   "source": [
    "df_test[\"customer_position\"].unique()"
   ]
  },
  {
   "cell_type": "code",
   "execution_count": 91,
   "metadata": {},
   "outputs": [],
   "source": [
    "# # customer_position\n",
    "# # CEO / Founder\n",
    "# change_list = ['ceo/founder', 'ceo/fundador', 'founder', 'entrepreneurship']\n",
    "# for item in change_list:\n",
    "#     df_train.loc[df_train['customer_position'] == item, 'customer_position'] = 'ceo / founder'\n",
    "#     df_test.loc[df_test['customer_position'] == item, 'customer_position'] =  'ceo / founder'\n",
    "# # C-Level Executive\n",
    "# change_list = ['president',  'the big boss', 'chairman', 'chief executive officer', 'c-level executive', 'co-founder', 'co-founder', 'c-levelexecutive', 'leadership/executive office/owner', 'administrative'\n",
    "#                , 'decision maker', 'decision-maker',  'commercial consultant', 'decision influencer', 'decision-influencer']\n",
    "# for item in change_list:\n",
    "#     df_train.loc[df_train['customer_position'] == item, 'customer_position'] = 'c-level executive'\n",
    "#     df_test.loc[df_test['customer_position'] == item, 'customer_position'] =  'c-level executive'\n",
    "# # Vice President\n",
    "# change_list = ['vp', 'vice president', 'vicepresident']\n",
    "# for item in change_list:\n",
    "#     df_train.loc[df_train['customer_position'] == item, 'customer_position'] = 'vice president'\n",
    "#     df_test.loc[df_test['customer_position'] == item, 'customer_position'] =  'vice president'\n",
    "# # Partner\n",
    "# change_list = ['partner', 'business partner']\n",
    "# for item in change_list:\n",
    "#     df_train.loc[df_train['customer_position'] == item, 'customer_position'] = 'partner'\n",
    "#     df_test.loc[df_test['customer_position'] == item, 'customer_position'] =  'partner'\n",
    "# # Director\n",
    "# change_list = ['principal & director', 'director cum faculty at gaining apex coaching centre', 'business unit director', 'director']\n",
    "# for item in change_list:\n",
    "#     df_train.loc[df_train['customer_position'] == item, 'customer_position'] = 'director'\n",
    "#     df_test.loc[df_test['customer_position'] == item, 'customer_position'] =  'director'\n",
    "# # Manager\n",
    "# change_list = ['av management', 'manager',  'gerente']\n",
    "# for item in change_list:\n",
    "#     df_train.loc[df_train['customer_position'] == item, 'customer_position'] = 'manager'\n",
    "#     df_test.loc[df_test['customer_position'] == item, 'customer_position'] =  'manager'\n",
    "# # Entry Level\n",
    "# change_list = ['entry level', 'entrylevel']\n",
    "# for item in change_list:\n",
    "#     df_train.loc[df_train['customer_position'] == item, 'customer_position'] = 'entry level'\n",
    "#     df_test.loc[df_test['customer_position'] == item, 'customer_position'] =  'entry level'\n",
    "# # Others\n",
    "# change_list = ['other - please specify - cedia association', 'others', 'other']\n",
    "# for item in change_list:\n",
    "#     df_train.loc[df_train['customer_position'] == item, 'customer_position'] = 'others'\n",
    "#     df_test.loc[df_test['customer_position'] == item, 'customer_position'] =  'others'\n",
    "# # Educator\n",
    "# change_list = ['chemistry teacher', 'education professional', 'education', 'teacher', 'senior lecturer', 'science teacher',  'educator', \n",
    "# 'physics and mathematics teacher', 'physics teacher', 'maths lecturer', 'professor of mathematics', 'guest faculty', 'physics faculty', 'math and physics teacher' \n",
    "# 'english trainer for ielts,toefl,pte,gre,sat exams.', 'academic specialist', 'neet/ olympiad expert faculty', 'quantitative aptitude faculty', 'professional trainer', \n",
    "# 'associate professor in electronics engg', 'prof.', 'professor', 'asst prof.', 'associate professor', 'assistant professor of enlish', 'assistant professor'\n",
    "# , 'career coach', 'teacher/middle school coordinator', 'academic coordinator/ post graduate teacher (accountancy, business studies)/ tgt (ict)', 'hon dean', \n",
    "# 'principal at oxford integrated pu science college','educator', 'academic coordinator/ post graduate teacher (accountancy, business studies)/ tgt (ict)', 'assistant professor', \n",
    "# 'math and physics teacher', 'professor', 'pgt chemistry',  'asst prof.',  'english trainer for ielts,toefl,pte,gre,sat exams.']\n",
    "# for item in change_list:\n",
    "#     df_train.loc[df_train['customer_position'] == item, 'customer_position'] = 'educator'\n",
    "#     df_test.loc[df_test['customer_position'] == item, 'customer_position'] =  'educator'\n",
    "# # Customer\n",
    "# change_list = ['end-user', 'customer', 'commercial end-user']\n",
    "# for item in change_list:\n",
    "#     df_train.loc[df_train['customer_position'] == item, 'customer_position'] = 'end-user'\n",
    "#     df_test.loc[df_test['customer_position'] == item, 'customer_position'] =  'end-user'\n",
    "# # Error\n",
    "# change_list = ['manufacturer',  'medical device manufacturer', 'pathologist', 'research', \n",
    "# 'market intelligence/research', 'not applicable', 'unpaid', 'manufacture', 'técnico',  'technical', 'engineering', \n",
    "# 'installer', 'hospital', 'tierarzt', 'surgery professional', 'radiology professional', 'főorvos', 'hospital', 'medical imaging specialist', \n",
    "# 'cargo', 'business development/sales', 'sales', 'subsidiary sales (ise)', 'consultant', 'consulting', 'architecture/consult', 'architect/consultant', \n",
    "# 'exhibition', 'distributor', 'operations', 'government', 'system integrator', 'business development', 'research', 'homeowner', 'lider de desarrollo', \n",
    "# 'software /solution provider', 'product management', 'employee']\n",
    "# for item in change_list:\n",
    "#     df_train.loc[df_train['customer_position'] == item, 'customer_position'] = 'none'\n",
    "\n",
    "# # 완전한 이상치 데이터 제거\n",
    "# delete_list = ['bulgaria', 'genel müdür', 'proprietário(a)', 'mindenes', 'pgt physics', 'exhibitiontv','no influence','this is a consume display requirement for home purpose.']\n",
    "# for item in delete_list:\n",
    "#     df_train = df_train[df_train['customer_position'] != item]"
   ]
  },
  {
   "cell_type": "code",
   "execution_count": 92,
   "metadata": {},
   "outputs": [],
   "source": [
    "## customer_position\n",
    "# CEO / Founder\n",
    "change_list = ['ceo/founder', 'ceo/fundador', 'founder', 'entrepreneurship']\n",
    "for item in change_list:\n",
    "    df_train.loc[df_train['customer_position'] == item, 'customer_position'] = 'ceo / founder'\n",
    "    df_test.loc[df_test['customer_position'] == item, 'customer_position'] =  'ceo / founder'\n",
    "# C-Level Executive\n",
    "change_list = ['president',  'the big boss', 'chairman', 'chief executive officer', 'c-level executive', 'co-founder', 'co-founder', 'c-levelexecutive', 'leadership/executive office/owner', 'administrative'\n",
    "               , 'decision maker', 'decision-maker',  'commercial consultant', 'decision influencer', 'decision-influencer']\n",
    "for item in change_list:\n",
    "    df_train.loc[df_train['customer_position'] == item, 'customer_position'] = 'c-level executive'\n",
    "    df_test.loc[df_test['customer_position'] == item, 'customer_position'] =  'c-level executive'\n",
    "# Vice President\n",
    "change_list = ['vp', 'vice president', 'vicepresident']\n",
    "for item in change_list:\n",
    "    df_train.loc[df_train['customer_position'] == item, 'customer_position'] = 'vice president'\n",
    "    df_test.loc[df_test['customer_position'] == item, 'customer_position'] =  'vice president'\n",
    "# Partner\n",
    "change_list = ['partner', 'business partner']\n",
    "for item in change_list:\n",
    "    df_train.loc[df_train['customer_position'] == item, 'customer_position'] = 'partner'\n",
    "    df_test.loc[df_test['customer_position'] == item, 'customer_position'] =  'partner'\n",
    "# Director\n",
    "change_list = ['principal & director', 'director cum faculty at gaining apex coaching centre', 'business unit director', 'director']\n",
    "for item in change_list:\n",
    "    df_train.loc[df_train['customer_position'] == item, 'customer_position'] = 'director'\n",
    "    df_test.loc[df_test['customer_position'] == item, 'customer_position'] =  'director'\n",
    "# Manager\n",
    "change_list = ['av management', 'manager',  'gerente']\n",
    "for item in change_list:\n",
    "    df_train.loc[df_train['customer_position'] == item, 'customer_position'] = 'manager'\n",
    "    df_test.loc[df_test['customer_position'] == item, 'customer_position'] =  'manager'\n",
    "# Entry Level\n",
    "change_list = ['entry level', 'entrylevel']\n",
    "for item in change_list:\n",
    "    df_train.loc[df_train['customer_position'] == item, 'customer_position'] = 'entry level'\n",
    "    df_test.loc[df_test['customer_position'] == item, 'customer_position'] =  'entry level'\n",
    "# Others\n",
    "change_list = ['other - please specify - cedia association', 'others', 'other']\n",
    "for item in change_list:\n",
    "    df_train.loc[df_train['customer_position'] == item, 'customer_position'] = 'others'\n",
    "    df_test.loc[df_test['customer_position'] == item, 'customer_position'] =  'others'\n",
    "# Educator\n",
    "change_list = ['chemistry teacher', 'education professional', 'education', 'teacher', 'senior lecturer', 'science teacher',  'educator', \n",
    "'physics and mathematics teacher', 'physics teacher', 'maths lecturer', 'professor of mathematics', 'guest faculty', 'physics faculty', 'math and physics teacher' \n",
    "'english trainer for ielts,toefl,pte,gre,sat exams.', 'academic specialist', 'neet/ olympiad expert faculty', 'quantitative aptitude faculty', 'professional trainer', \n",
    "'associate professor in electronics engg', 'prof.', 'professor', 'asst prof.', 'associate professor', 'assistant professor of enlish', 'assistant professor'\n",
    ", 'career coach', 'teacher/middle school coordinator', 'academic coordinator/ post graduate teacher (accountancy, business studies)/ tgt (ict)', 'hon dean', \n",
    "'principal at oxford integrated pu science college','educator', 'academic coordinator/ post graduate teacher (accountancy, business studies)/ tgt (ict)', 'assistant professor', \n",
    "'math and physics teacher', 'professor', 'pgt chemistry',  'asst prof.',  'english trainer for ielts,toefl,pte,gre,sat exams.']\n",
    "for item in change_list:\n",
    "    df_train.loc[df_train['customer_position'] == item, 'customer_position'] = 'educator'\n",
    "    df_test.loc[df_test['customer_position'] == item, 'customer_position'] =  'educator'\n",
    "# Customer\n",
    "change_list = ['end-user', 'customer', 'commercial end-user']\n",
    "for item in change_list:\n",
    "    df_train.loc[df_train['customer_position'] == item, 'customer_position'] = 'end-user'\n",
    "    df_test.loc[df_test['customer_position'] == item, 'customer_position'] =  'end-user'\n",
    "# Error\n",
    "change_list = ['manufacturer',  'medical device manufacturer', 'pathologist', 'research', \n",
    "'market intelligence/research', 'not applicable', 'unpaid', 'manufacture', 'técnico',  'technical', 'engineering', \n",
    "'installer', 'hospital', 'tierarzt', 'surgery professional', 'radiology professional', 'főorvos', 'hospital', 'medical imaging specialist', \n",
    "'cargo', 'business development/sales', 'sales', 'subsidiary sales (ise)', 'consultant', 'consulting', 'architecture/consult', 'architect/consultant', \n",
    "'exhibition', 'distributor', 'operations', 'government', 'system integrator', 'business development', 'research', 'homeowner', 'lider de desarrollo', \n",
    "'software /solution provider', 'product management', 'employee']\n",
    "df_train = df_train[~df_train[\"customer_position\"].isin(change_list)]\n",
    "\n",
    "# 완전한 이상치 데이터 제거\n",
    "delete_list = ['bulgaria', 'genel müdür', 'proprietário(a)', 'mindenes', 'pgt physics', 'exhibitiontv','no influence','this is a consume display requirement for home purpose.']\n",
    "for item in delete_list:\n",
    "    df_train = df_train[df_train['customer_position'] != item]"
   ]
  },
  {
   "cell_type": "code",
   "execution_count": 93,
   "metadata": {},
   "outputs": [
    {
     "data": {
      "text/plain": [
       "array(['entry level', 'ceo / founder', 'partner', 'manager',\n",
       "       'vice president', 'associate/analyst', 'c-level executive', 'none',\n",
       "       'director', 'others', 'intern', 'trainee', 'educator', 'end-user'],\n",
       "      dtype=object)"
      ]
     },
     "execution_count": 93,
     "metadata": {},
     "output_type": "execute_result"
    }
   ],
   "source": [
    "df_train[\"customer_position\"].unique()"
   ]
  },
  {
   "cell_type": "code",
   "execution_count": 94,
   "metadata": {},
   "outputs": [
    {
     "data": {
      "text/plain": [
       "array(['none', 'manager', 'others', 'associate/analyst', 'director',\n",
       "       'entry level', 'ceo / founder', 'partner', 'c-level executive',\n",
       "       'trainee', 'vice president', 'intern', 'educator', 'end-user'],\n",
       "      dtype=object)"
      ]
     },
     "execution_count": 94,
     "metadata": {},
     "output_type": "execute_result"
    }
   ],
   "source": [
    "df_test[\"customer_position\"].unique()"
   ]
  },
  {
   "cell_type": "code",
   "execution_count": 95,
   "metadata": {},
   "outputs": [
    {
     "data": {
      "text/plain": [
       "array([], dtype=object)"
      ]
     },
     "execution_count": 95,
     "metadata": {},
     "output_type": "execute_result"
    }
   ],
   "source": [
    "df_train[~df_train[\"customer_position\"].isin(df_test[\"customer_position\"].unique())][\"customer_position\"].unique()"
   ]
  },
  {
   "cell_type": "code",
   "execution_count": 96,
   "metadata": {},
   "outputs": [
    {
     "data": {
      "text/plain": [
       "([0, 1, 2, 3, 4, 5, 6, 7, 8, 9, 10, 11, 12, 13],\n",
       " [Text(0, 0, 'none'),\n",
       "  Text(1, 0, 'manager'),\n",
       "  Text(2, 0, 'others'),\n",
       "  Text(3, 0, 'associate/analyst'),\n",
       "  Text(4, 0, 'director'),\n",
       "  Text(5, 0, 'entry level'),\n",
       "  Text(6, 0, 'ceo / founder'),\n",
       "  Text(7, 0, 'partner'),\n",
       "  Text(8, 0, 'c-level executive'),\n",
       "  Text(9, 0, 'trainee'),\n",
       "  Text(10, 0, 'vice president'),\n",
       "  Text(11, 0, 'intern'),\n",
       "  Text(12, 0, 'educator'),\n",
       "  Text(13, 0, 'end-user')])"
      ]
     },
     "execution_count": 96,
     "metadata": {},
     "output_type": "execute_result"
    },
    {
     "data": {
      "image/png": "[encoded data removed]",
      "text/plain": [
       "<Figure size 1000x1000 with 1 Axes>"
      ]
     },
     "metadata": {},
     "output_type": "display_data"
    }
   ],
   "source": [
    "plt.figure(figsize=(10, 10))\n",
    "sns.countplot(df_test, x=\"customer_position\")\n",
    "plt.xticks(rotation=90)"
   ]
  },
  {
   "cell_type": "code",
   "execution_count": 97,
   "metadata": {},
   "outputs": [
    {
     "data": {
      "text/plain": [
       "([0, 1, 2, 3, 4, 5, 6, 7, 8, 9, 10, 11, 12, 13],\n",
       " [Text(0, 0, 'entry level'),\n",
       "  Text(1, 0, 'ceo / founder'),\n",
       "  Text(2, 0, 'partner'),\n",
       "  Text(3, 0, 'manager'),\n",
       "  Text(4, 0, 'vice president'),\n",
       "  Text(5, 0, 'associate/analyst'),\n",
       "  Text(6, 0, 'c-level executive'),\n",
       "  Text(7, 0, 'none'),\n",
       "  Text(8, 0, 'director'),\n",
       "  Text(9, 0, 'others'),\n",
       "  Text(10, 0, 'intern'),\n",
       "  Text(11, 0, 'trainee'),\n",
       "  Text(12, 0, 'educator'),\n",
       "  Text(13, 0, 'end-user')])"
      ]
     },
     "execution_count": 97,
     "metadata": {},
     "output_type": "execute_result"
    },
    {
     "data": {
      "image/png": "[encoded data removed]",
      "text/plain": [
       "<Figure size 2000x1000 with 1 Axes>"
      ]
     },
     "metadata": {},
     "output_type": "display_data"
    }
   ],
   "source": [
    "plt.figure(figsize=(20, 10))\n",
    "sns.countplot(df_train, x=\"customer_position\", hue=\"is_converted\")\n",
    "plt.xticks(rotation=90)"
   ]
  },
  {
   "cell_type": "code",
   "execution_count": 98,
   "metadata": {},
   "outputs": [
    {
     "data": {
      "text/plain": [
       "customer_position  is_converted\n",
       "entry level        False           2121\n",
       "                   True              98\n",
       "Name: count, dtype: int64"
      ]
     },
     "execution_count": 98,
     "metadata": {},
     "output_type": "execute_result"
    }
   ],
   "source": [
    "unique_true_num = df_train[df_train[\"customer_position\"]=='entry level'][[\"customer_position\", \"is_converted\"]].value_counts()\n",
    "unique_true_num"
   ]
  },
  {
   "cell_type": "code",
   "execution_count": 99,
   "metadata": {},
   "outputs": [
    {
     "name": "stdout",
     "output_type": "stream",
     "text": [
      "====entry level====\n",
      "\n",
      "Number of entry level : 2219\n",
      "Number of entry level True : 98\n",
      "Rate of entry level :  4.416 %\n",
      "\n",
      "====ceo / founder====\n",
      "\n",
      "Number of ceo / founder : 7991\n",
      "Number of ceo / founder True : 658\n",
      "Rate of ceo / founder :  8.234 %\n",
      "\n",
      "====partner====\n",
      "\n",
      "Number of partner : 2538\n",
      "Number of partner True : 232\n",
      "Rate of partner :  9.141 %\n",
      "\n",
      "====manager====\n",
      "\n",
      "Number of manager : 8222\n",
      "Number of manager True : 826\n",
      "Rate of manager :  10.046 %\n",
      "\n",
      "====vice president====\n",
      "\n",
      "Number of vice president : 521\n",
      "Number of vice president True : 44\n",
      "Rate of vice president :  8.445 %\n",
      "\n",
      "====associate/analyst====\n",
      "\n",
      "Number of associate/analyst : 2597\n",
      "Number of associate/analyst True : 325\n",
      "Rate of associate/analyst :  12.514 %\n",
      "\n",
      "====c-level executive====\n",
      "\n",
      "Number of c-level executive : 904\n",
      "Number of c-level executive True : 88\n",
      "Rate of c-level executive :  9.735 %\n",
      "\n",
      "====none====\n",
      "\n",
      "Number of none : 19680\n",
      "Number of none True : 1649\n",
      "Rate of none :  8.379 %\n",
      "\n",
      "====director====\n",
      "\n",
      "Number of director : 4847\n",
      "Number of director True : 433\n",
      "Rate of director :  8.933 %\n",
      "\n",
      "====others====\n",
      "\n",
      "Number of others : 7465\n",
      "Number of others True : 431\n",
      "Rate of others :  5.774 %\n",
      "\n",
      "====intern====\n",
      "\n",
      "Number of intern : 446\n",
      "Number of intern True : 18\n",
      "Rate of intern :  4.036 %\n",
      "\n",
      "====trainee====\n",
      "\n",
      "Number of trainee : 849\n",
      "Number of trainee True : 25\n",
      "Rate of trainee :  2.945 %\n",
      "\n",
      "====educator====\n",
      "\n",
      "Number of educator : 48\n",
      "Number of educator True : 4\n",
      "Rate of educator :  8.333 %\n",
      "\n",
      "====end-user====\n",
      "\n",
      "Number of end-user : 436\n",
      "Number of end-user True : 3\n",
      "Rate of end-user :  0.688 %\n",
      "\n"
     ]
    }
   ],
   "source": [
    "for i in df_train[\"customer_position\"].unique():\n",
    "    unique_num = df_train[df_train[\"customer_position\"]==i][\"customer_position\"].value_counts().iloc[0]\n",
    "    unique_true_num = df_train[df_train[\"customer_position\"]==i][[\"customer_position\", \"is_converted\"]].value_counts().iloc[1]\n",
    "    unique_rate = unique_true_num/unique_num*100\n",
    "    print(f\"===={i}====\")\n",
    "    print()\n",
    "    print(f\"Number of {i} : {unique_num}\")\n",
    "    print(f\"Number of {i} True : {unique_true_num}\")\n",
    "    print(f\"Rate of {i} : {unique_rate : .3f} %\")\n",
    "    print()"
   ]
  },
  {
   "cell_type": "code",
   "execution_count": 84,
   "metadata": {},
   "outputs": [
    {
     "data": {
      "text/plain": [
       "14       16481\n",
       "50       47466\n",
       "57       13518\n",
       "60       27671\n",
       "113      28113\n",
       "         ...  \n",
       "59121    22446\n",
       "59154    22520\n",
       "59155    32240\n",
       "59220    47466\n",
       "59253    20702\n",
       "Name: customer_idx, Length: 10663, dtype: int64"
      ]
     },
     "execution_count": 84,
     "metadata": {},
     "output_type": "execute_result"
    }
   ],
   "source": [
    "df_train[df_train[\"customer_idx\"].isin(df_test[\"customer_idx\"])][\"customer_idx\"]"
   ]
  },
  {
   "cell_type": "code",
   "execution_count": null,
   "metadata": {},
   "outputs": [],
   "source": []
  }
 ],
 "metadata": {
  "kernelspec": {
   "display_name": "ml_py39",
   "language": "python",
   "name": "python3"
  },
  "language_info": {
   "codemirror_mode": {
    "name": "ipython",
    "version": 3
   },
   "file_extension": ".py",
   "mimetype": "text/x-python",
   "name": "python",
   "nbconvert_exporter": "python",
   "pygments_lexer": "ipython3",
   "version": "3.9.17"
  }
 },
 "nbformat": 4,
 "nbformat_minor": 2
}
