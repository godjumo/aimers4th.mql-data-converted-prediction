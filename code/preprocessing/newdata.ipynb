{
 "cells": [
  {
   "cell_type": "markdown",
   "metadata": {},
   "source": [
    "# 영업 성공 여부 분류 경진대회"
   ]
  },
  {
   "cell_type": "markdown",
   "metadata": {},
   "source": [
    "## 1. 데이터 확인"
   ]
  },
  {
   "cell_type": "markdown",
   "metadata": {},
   "source": [
    "### 필수 라이브러리"
   ]
  },
  {
   "cell_type": "code",
   "execution_count": 1,
   "metadata": {},
   "outputs": [],
   "source": [
    "# basic\n",
    "import pandas as pd\n",
    "import numpy as np\n",
    "import os\n",
    "import re\n",
    "import pycountry\n",
    "\n",
    "# visualization\n",
    "from matplotlib import pyplot as plt, font_manager\n",
    "import seaborn as sns\n",
    "plt.rcParams['font.family'] = 'NanumGothic'\n",
    "\n",
    "import plotly\n",
    "import plotly.express as px\n",
    "import plotly.graph_objects as go"
   ]
  },
  {
   "cell_type": "markdown",
   "metadata": {},
   "source": [
    "## 2. Load data"
   ]
  },
  {
   "cell_type": "code",
   "execution_count": 4,
   "metadata": {},
   "outputs": [],
   "source": [
    "# load\n",
    "train2 = pd.read_csv('../data/new_imputation_train2.csv')\n",
    "test2 = pd.read_csv('../data/new_imputation_test2.csv')\n",
    "\n",
    "train = pd.read_csv('../data/new_imputation_train.csv')\n",
    "test = pd.read_csv('../data/new_imputation_test.csv')"
   ]
  },
  {
   "cell_type": "markdown",
   "metadata": {},
   "source": [
    "## 3. Data Info"
   ]
  },
  {
   "cell_type": "code",
   "execution_count": 5,
   "metadata": {},
   "outputs": [
    {
     "data": {
      "text/plain": [
       "bant_submit                    0\n",
       "business_unit                  2\n",
       "customer_idx                   0\n",
       "customer_type              42943\n",
       "enterprise                     0\n",
       "historical_existing_cnt    44115\n",
       "idit_strategic_ver         53624\n",
       "customer_job               18790\n",
       "lead_desc_length               0\n",
       "inquiry_type                 914\n",
       "product_category               0\n",
       "customer_position              0\n",
       "response_corporate             0\n",
       "expected_timeline              0\n",
       "ver_cus                        0\n",
       "ver_pro                        0\n",
       "business_area              39933\n",
       "business_subarea           52134\n",
       "lead_owner                     0\n",
       "is_converted                   0\n",
       "customer_country3              0\n",
       "continent                      0\n",
       "dtype: int64"
      ]
     },
     "execution_count": 5,
     "metadata": {},
     "output_type": "execute_result"
    }
   ],
   "source": [
    "train2.isna().sum()"
   ]
  },
  {
   "cell_type": "code",
   "execution_count": 6,
   "metadata": {},
   "outputs": [
    {
     "name": "stdout",
     "output_type": "stream",
     "text": [
      "bant_submit\n",
      "Series([], Name: bant_submit, dtype: float64)\n",
      "business_unit\n",
      "50981    NaN\n",
      "50982    NaN\n",
      "Name: business_unit, dtype: object\n",
      "customer_idx\n",
      "555    13485\n",
      "Name: customer_idx, dtype: int64\n",
      "customer_type\n",
      "0        End-Customer\n",
      "1        End-Customer\n",
      "2        End-Customer\n",
      "3        End-Customer\n",
      "5        End-Customer\n",
      "             ...     \n",
      "57621    End-Customer\n",
      "57622    End-Customer\n",
      "57623    End-Customer\n",
      "57630    End-Customer\n",
      "57631    End-Customer\n",
      "Name: customer_type, Length: 10397, dtype: object\n",
      "enterprise\n",
      "Series([], Name: enterprise, dtype: int64)\n",
      "historical_existing_cnt\n",
      "Series([], Name: historical_existing_cnt, dtype: float64)\n",
      "customer_job\n",
      "Series([], Name: customer_job, dtype: object)\n",
      "lead_desc_length\n",
      "Series([], Name: lead_desc_length, dtype: int64)\n",
      "inquiry_type\n",
      "Series([], Name: inquiry_type, dtype: object)\n",
      "product_category\n",
      "Series([], Name: product_category, dtype: object)\n",
      "customer_position\n",
      "10254                             math and physics teacher\n",
      "10255                                  assistant professor\n",
      "22888                             math and physics teacher\n",
      "23048                                  assistant professor\n",
      "23049                                  assistant professor\n",
      "26880                                       administrative\n",
      "26881                                       administrative\n",
      "26882                               radiology professional\n",
      "26883                                  clinical specialist\n",
      "26884                                 surgery professional\n",
      "27027                                       administrative\n",
      "27028                                       administrative\n",
      "27029                                       administrative\n",
      "27030                           medical imaging specialist\n",
      "27031                           medical imaging specialist\n",
      "27032                           medical imaging specialist\n",
      "27033                           medical imaging specialist\n",
      "27034                            medical solution provider\n",
      "27035                            medical solution provider\n",
      "27036                            medical solution provider\n",
      "27076                                          pathologist\n",
      "27113                                       administrative\n",
      "27114                           medical imaging specialist\n",
      "27115                            medical solution provider\n",
      "27128                            medical solution provider\n",
      "30868                             math and physics teacher\n",
      "30869                             math and physics teacher\n",
      "32939                                  assistant professor\n",
      "32940                                  assistant professor\n",
      "32941                                  assistant professor\n",
      "32942                                  assistant professor\n",
      "32943                                            professor\n",
      "32944                             math and physics teacher\n",
      "32945                                            professor\n",
      "32946                             math and physics teacher\n",
      "32948                                            professor\n",
      "34094                             math and physics teacher\n",
      "34095                             math and physics teacher\n",
      "34096                                  assistant professor\n",
      "34097                                            professor\n",
      "34098                             math and physics teacher\n",
      "34099                                            professor\n",
      "34100                             math and physics teacher\n",
      "34102                                        pgt chemistry\n",
      "34103    director cum faculty at gaining apex coaching ...\n",
      "34104    academic coordinator/ post graduate teacher (a...\n",
      "34105                                  assistant professor\n",
      "34106                                           co-founder\n",
      "47267                                                other\n",
      "53380                                             customer\n",
      "53381                                             customer\n",
      "Name: customer_position, dtype: object\n",
      "response_corporate\n",
      "Series([], Name: response_corporate, dtype: object)\n",
      "expected_timeline\n",
      "Series([], Name: expected_timeline, dtype: object)\n",
      "business_area\n",
      "Series([], Name: business_area, dtype: object)\n",
      "business_subarea\n",
      "Series([], Name: business_subarea, dtype: object)\n",
      "lead_owner\n",
      "Series([], Name: lead_owner, dtype: int64)\n",
      "is_converted\n",
      "Series([], Name: is_converted, dtype: bool)\n",
      "customer_country3\n",
      "307      South Korea\n",
      "1709     South Korea\n",
      "13727    South Korea\n",
      "13966    South Korea\n",
      "18264    South Korea\n",
      "            ...     \n",
      "50969    South Korea\n",
      "54349    South Korea\n",
      "56067    South Korea\n",
      "56105    South Korea\n",
      "56701    South Korea\n",
      "Name: customer_country3, Length: 61, dtype: object\n"
     ]
    }
   ],
   "source": [
    "# 혹시나 짜른 데이터 중에 없는 데이터 찾기 또는 다른 값 반영되었나 확인\n",
    "for i in train.columns:\n",
    "    print(i)\n",
    "    print(train2[i][~train2[i].isin(train[i].unique())])"
   ]
  },
  {
   "cell_type": "markdown",
   "metadata": {},
   "source": [
    "## 4. Data Info"
   ]
  },
  {
   "cell_type": "code",
   "execution_count": 7,
   "metadata": {},
   "outputs": [
    {
     "data": {
      "text/plain": [
       "Index(['bant_submit', 'business_unit', 'customer_idx', 'customer_type',\n",
       "       'enterprise', 'historical_existing_cnt', 'idit_strategic_ver',\n",
       "       'customer_job', 'lead_desc_length', 'inquiry_type', 'product_category',\n",
       "       'customer_position', 'response_corporate', 'expected_timeline',\n",
       "       'ver_cus', 'ver_pro', 'business_area', 'business_subarea', 'lead_owner',\n",
       "       'is_converted', 'customer_country3', 'continent'],\n",
       "      dtype='object')"
      ]
     },
     "execution_count": 7,
     "metadata": {},
     "output_type": "execute_result"
    }
   ],
   "source": [
    "train2.columns"
   ]
  },
  {
   "cell_type": "code",
   "execution_count": 8,
   "metadata": {},
   "outputs": [
    {
     "data": {
      "text/plain": [
       "array(['Asia', 'Africa', 'South America', 'North America', 'Oceania',\n",
       "       'Europe'], dtype=object)"
      ]
     },
     "execution_count": 8,
     "metadata": {},
     "output_type": "execute_result"
    }
   ],
   "source": [
    "train2['continent'].unique()"
   ]
  },
  {
   "cell_type": "code",
   "execution_count": 9,
   "metadata": {},
   "outputs": [
    {
     "data": {
      "text/plain": [
       "array(['South America', 'North America', 'Asia', 'Europe', 'Africa',\n",
       "       'Oceania'], dtype=object)"
      ]
     },
     "execution_count": 9,
     "metadata": {},
     "output_type": "execute_result"
    }
   ],
   "source": [
    "test2['continent'].unique()"
   ]
  },
  {
   "cell_type": "code",
   "execution_count": 10,
   "metadata": {},
   "outputs": [
    {
     "name": "stderr",
     "output_type": "stream",
     "text": [
      "/var/folders/kv/46dvhwp932v4b692v761hjdc0000gn/T/ipykernel_15356/1367628559.py:2: SettingWithCopyWarning: \n",
      "A value is trying to be set on a copy of a slice from a DataFrame\n",
      "\n",
      "See the caveats in the documentation: https://pandas.pydata.org/pandas-docs/stable/user_guide/indexing.html#returning-a-view-versus-a-copy\n",
      "  train2['inquiry_type'][train2['inquiry_type'] == 'other'] = np.nan\n",
      "/var/folders/kv/46dvhwp932v4b692v761hjdc0000gn/T/ipykernel_15356/1367628559.py:3: SettingWithCopyWarning: \n",
      "A value is trying to be set on a copy of a slice from a DataFrame\n",
      "\n",
      "See the caveats in the documentation: https://pandas.pydata.org/pandas-docs/stable/user_guide/indexing.html#returning-a-view-versus-a-copy\n",
      "  test2['inquiry_type'][test2['inquiry_type'] == 'other'] = np.nan\n",
      "/var/folders/kv/46dvhwp932v4b692v761hjdc0000gn/T/ipykernel_15356/1367628559.py:5: SettingWithCopyWarning: \n",
      "A value is trying to be set on a copy of a slice from a DataFrame\n",
      "\n",
      "See the caveats in the documentation: https://pandas.pydata.org/pandas-docs/stable/user_guide/indexing.html#returning-a-view-versus-a-copy\n",
      "  train2['inquiry_type'][train2['inquiry_type'] == 'other'] = np.nan\n",
      "/var/folders/kv/46dvhwp932v4b692v761hjdc0000gn/T/ipykernel_15356/1367628559.py:6: SettingWithCopyWarning: \n",
      "A value is trying to be set on a copy of a slice from a DataFrame\n",
      "\n",
      "See the caveats in the documentation: https://pandas.pydata.org/pandas-docs/stable/user_guide/indexing.html#returning-a-view-versus-a-copy\n",
      "  test2['inquiry_type'][test2['inquiry_type'] == 'other'] = np.nan\n",
      "/var/folders/kv/46dvhwp932v4b692v761hjdc0000gn/T/ipykernel_15356/1367628559.py:8: SettingWithCopyWarning: \n",
      "A value is trying to be set on a copy of a slice from a DataFrame\n",
      "\n",
      "See the caveats in the documentation: https://pandas.pydata.org/pandas-docs/stable/user_guide/indexing.html#returning-a-view-versus-a-copy\n",
      "  train2['inquiry_type'][train2['inquiry_type'].isin(['others', 'error'])] = np.nan\n",
      "/var/folders/kv/46dvhwp932v4b692v761hjdc0000gn/T/ipykernel_15356/1367628559.py:9: SettingWithCopyWarning: \n",
      "A value is trying to be set on a copy of a slice from a DataFrame\n",
      "\n",
      "See the caveats in the documentation: https://pandas.pydata.org/pandas-docs/stable/user_guide/indexing.html#returning-a-view-versus-a-copy\n",
      "  test2['inquiry_type'][test2['inquiry_type'].isin(['others', 'error'])] = np.nan\n",
      "/var/folders/kv/46dvhwp932v4b692v761hjdc0000gn/T/ipykernel_15356/1367628559.py:11: SettingWithCopyWarning: \n",
      "A value is trying to be set on a copy of a slice from a DataFrame\n",
      "\n",
      "See the caveats in the documentation: https://pandas.pydata.org/pandas-docs/stable/user_guide/indexing.html#returning-a-view-versus-a-copy\n",
      "  train2['product_category'][train2['product_category'].isin(['O/W', 'NOT-AVAILABLE'])] = np.nan\n",
      "/var/folders/kv/46dvhwp932v4b692v761hjdc0000gn/T/ipykernel_15356/1367628559.py:12: SettingWithCopyWarning: \n",
      "A value is trying to be set on a copy of a slice from a DataFrame\n",
      "\n",
      "See the caveats in the documentation: https://pandas.pydata.org/pandas-docs/stable/user_guide/indexing.html#returning-a-view-versus-a-copy\n",
      "  test2['product_category'][test2['product_category'].isin(['O/W', 'NOT-AVAILABLE'])] = np.nan\n",
      "/var/folders/kv/46dvhwp932v4b692v761hjdc0000gn/T/ipykernel_15356/1367628559.py:14: SettingWithCopyWarning: \n",
      "A value is trying to be set on a copy of a slice from a DataFrame\n",
      "\n",
      "See the caveats in the documentation: https://pandas.pydata.org/pandas-docs/stable/user_guide/indexing.html#returning-a-view-versus-a-copy\n",
      "  train2['customer_position'][train2['customer_position'].isin(['none', 'others', 'other'])] = np.nan\n",
      "/var/folders/kv/46dvhwp932v4b692v761hjdc0000gn/T/ipykernel_15356/1367628559.py:15: SettingWithCopyWarning: \n",
      "A value is trying to be set on a copy of a slice from a DataFrame\n",
      "\n",
      "See the caveats in the documentation: https://pandas.pydata.org/pandas-docs/stable/user_guide/indexing.html#returning-a-view-versus-a-copy\n",
      "  test2['customer_position'][test2['customer_position'].isin(['none', 'others', 'other'])] = np.nan\n",
      "/var/folders/kv/46dvhwp932v4b692v761hjdc0000gn/T/ipykernel_15356/1367628559.py:17: SettingWithCopyWarning: \n",
      "A value is trying to be set on a copy of a slice from a DataFrame\n",
      "\n",
      "See the caveats in the documentation: https://pandas.pydata.org/pandas-docs/stable/user_guide/indexing.html#returning-a-view-versus-a-copy\n",
      "  train2['expected_timeline'][train2['expected_timeline'] == 'Unknown'] = np.nan\n",
      "/var/folders/kv/46dvhwp932v4b692v761hjdc0000gn/T/ipykernel_15356/1367628559.py:18: SettingWithCopyWarning: \n",
      "A value is trying to be set on a copy of a slice from a DataFrame\n",
      "\n",
      "See the caveats in the documentation: https://pandas.pydata.org/pandas-docs/stable/user_guide/indexing.html#returning-a-view-versus-a-copy\n",
      "  test2['expected_timeline'][test2['expected_timeline'] == 'Unknown'] = np.nan\n"
     ]
    }
   ],
   "source": [
    "# other은 그냥 결측치로 만들어 버리기\n",
    "train2['inquiry_type'][train2['inquiry_type'] == 'other'] = np.nan\n",
    "test2['inquiry_type'][test2['inquiry_type'] == 'other'] = np.nan\n",
    "\n",
    "train2['inquiry_type'][train2['inquiry_type'] == 'other'] = np.nan\n",
    "test2['inquiry_type'][test2['inquiry_type'] == 'other'] = np.nan\n",
    "\n",
    "train2['inquiry_type'][train2['inquiry_type'].isin(['others', 'error'])] = np.nan\n",
    "test2['inquiry_type'][test2['inquiry_type'].isin(['others', 'error'])] = np.nan\n",
    "\n",
    "train2['product_category'][train2['product_category'].isin(['O/W', 'NOT-AVAILABLE'])] = np.nan\n",
    "test2['product_category'][test2['product_category'].isin(['O/W', 'NOT-AVAILABLE'])] = np.nan\n",
    "\n",
    "train2['customer_position'][train2['customer_position'].isin(['none', 'others', 'other'])] = np.nan\n",
    "test2['customer_position'][test2['customer_position'].isin(['none', 'others', 'other'])] = np.nan\n",
    "\n",
    "train2['expected_timeline'][train2['expected_timeline'] == 'Unknown'] = np.nan\n",
    "test2['expected_timeline'][test2['expected_timeline'] == 'Unknown'] = np.nan"
   ]
  },
  {
   "cell_type": "code",
   "execution_count": 11,
   "metadata": {},
   "outputs": [
    {
     "data": {
      "text/plain": [
       "bant_submit                    0\n",
       "business_unit                  2\n",
       "customer_idx                   0\n",
       "customer_type              42943\n",
       "enterprise                     0\n",
       "historical_existing_cnt    44115\n",
       "idit_strategic_ver         53624\n",
       "customer_job               18790\n",
       "lead_desc_length               0\n",
       "inquiry_type                2324\n",
       "product_category           20475\n",
       "customer_position          26610\n",
       "response_corporate             0\n",
       "expected_timeline          30720\n",
       "ver_cus                        0\n",
       "ver_pro                        0\n",
       "business_area              39933\n",
       "business_subarea           52134\n",
       "lead_owner                     0\n",
       "is_converted                   0\n",
       "customer_country3              0\n",
       "continent                      0\n",
       "dtype: int64"
      ]
     },
     "execution_count": 11,
     "metadata": {},
     "output_type": "execute_result"
    }
   ],
   "source": [
    "train2.isna().sum()"
   ]
  },
  {
   "cell_type": "code",
   "execution_count": 12,
   "metadata": {},
   "outputs": [
    {
     "name": "stderr",
     "output_type": "stream",
     "text": [
      "/var/folders/kv/46dvhwp932v4b692v761hjdc0000gn/T/ipykernel_15356/2056487621.py:20: SettingWithCopyWarning: \n",
      "A value is trying to be set on a copy of a slice from a DataFrame\n",
      "\n",
      "See the caveats in the documentation: https://pandas.pydata.org/pandas-docs/stable/user_guide/indexing.html#returning-a-view-versus-a-copy\n",
      "  train3['partnership'][train3['partnership'].isna()] = 0\n",
      "/var/folders/kv/46dvhwp932v4b692v761hjdc0000gn/T/ipykernel_15356/2056487621.py:21: SettingWithCopyWarning: \n",
      "A value is trying to be set on a copy of a slice from a DataFrame\n",
      "\n",
      "See the caveats in the documentation: https://pandas.pydata.org/pandas-docs/stable/user_guide/indexing.html#returning-a-view-versus-a-copy\n",
      "  test3['partnership'][test3['partnership'].isna()] = 0\n"
     ]
    }
   ],
   "source": [
    "# partnership\n",
    "partner1 = train.groupby(['customer_idx', 'lead_owner']).sum()['is_converted']\n",
    "partner2 = train.groupby(['customer_idx', 'lead_owner']).count()['is_converted']\n",
    "partner3 = train.groupby(['customer_idx', 'lead_owner']).sum()['is_converted']/train.groupby(['customer_idx', 'lead_owner']).count()['is_converted']\n",
    "\n",
    "# merge & arrangae name\n",
    "pt = pd.concat([partner1, partner2, partner3], axis = 1)\n",
    "pt.columns = ['true_count', 'count', 'percent']\n",
    "ppt = pt.reset_index()\n",
    "\n",
    "# 명단 만들기\n",
    "ppt2 = ppt[['customer_idx', 'lead_owner']][(ppt['count'] >= 2) & (ppt['percent'] >= 0.5)]\n",
    "ppt2['partnership'] = 1\n",
    "\n",
    "# train, test에 합치기\n",
    "train3 = pd.merge(train2, ppt2, how = 'left', on = ['customer_idx', 'lead_owner'])\n",
    "test3 = pd.merge(test2, ppt2, how = 'left', on = ['customer_idx', 'lead_owner'])\n",
    "\n",
    "# 없는 값 무조건 0으로 채워야됨\n",
    "train3['partnership'][train3['partnership'].isna()] = 0\n",
    "test3['partnership'][test3['partnership'].isna()] = 0\n",
    "\n",
    "train2 = train3.copy()\n",
    "test2 = test3.copy()"
   ]
  },
  {
   "cell_type": "code",
   "execution_count": 13,
   "metadata": {},
   "outputs": [
    {
     "name": "stderr",
     "output_type": "stream",
     "text": [
      "/var/folders/kv/46dvhwp932v4b692v761hjdc0000gn/T/ipykernel_15356/2752353905.py:18: SettingWithCopyWarning: \n",
      "A value is trying to be set on a copy of a slice from a DataFrame\n",
      "\n",
      "See the caveats in the documentation: https://pandas.pydata.org/pandas-docs/stable/user_guide/indexing.html#returning-a-view-versus-a-copy\n",
      "  train3['fan_mae_king_yn'][train3['fan_mae_king_yn'].isna()] = 0\n",
      "/var/folders/kv/46dvhwp932v4b692v761hjdc0000gn/T/ipykernel_15356/2752353905.py:19: SettingWithCopyWarning: \n",
      "A value is trying to be set on a copy of a slice from a DataFrame\n",
      "\n",
      "See the caveats in the documentation: https://pandas.pydata.org/pandas-docs/stable/user_guide/indexing.html#returning-a-view-versus-a-copy\n",
      "  test3['fan_mae_king_yn'][test3['fan_mae_king_yn'].isna()] = 0\n"
     ]
    }
   ],
   "source": [
    "# 판매자와 product 융합\n",
    "dsa = train.groupby(['product_category', 'lead_owner']).sum()['is_converted']\n",
    "dsa2 = train.groupby(['product_category', 'lead_owner']).count()['is_converted']\n",
    "dsa3 = pd.merge(dsa, dsa2, how = 'outer', on = ['product_category', 'lead_owner']).reset_index()\n",
    "dsa3['fan_mae_king'] = dsa3['is_converted_x'] / dsa3['is_converted_y']\n",
    "\n",
    "# 상위 15개만 선정하기\n",
    "dsa4 = dsa3.sort_values(['product_category', 'fan_mae_king'], ascending = False).groupby('product_category').head(15)\n",
    "\n",
    "# 명단 만들기\n",
    "dsa4['fan_mae_king_yn'] = 1\n",
    "dsa5 = dsa4[['product_category', 'lead_owner', 'fan_mae_king_yn']]\n",
    "# train, test에 합치기\n",
    "train3 = pd.merge(train2, dsa5, how = 'left', on = ['product_category', 'lead_owner'])\n",
    "test3 = pd.merge(test2, dsa5, how = 'left', on = ['product_category', 'lead_owner'])\n",
    "\n",
    "# 없는 값 무조건 0으로 채워야됨\n",
    "train3['fan_mae_king_yn'][train3['fan_mae_king_yn'].isna()] = 0\n",
    "test3['fan_mae_king_yn'][test3['fan_mae_king_yn'].isna()] = 0\n",
    "\n",
    "train2 = train3.copy()\n",
    "test2 = test3.copy()"
   ]
  },
  {
   "cell_type": "code",
   "execution_count": 14,
   "metadata": {},
   "outputs": [
    {
     "name": "stderr",
     "output_type": "stream",
     "text": [
      "/var/folders/kv/46dvhwp932v4b692v761hjdc0000gn/T/ipykernel_15356/639592810.py:13: SettingWithCopyWarning: \n",
      "A value is trying to be set on a copy of a slice from a DataFrame\n",
      "\n",
      "See the caveats in the documentation: https://pandas.pydata.org/pandas-docs/stable/user_guide/indexing.html#returning-a-view-versus-a-copy\n",
      "  da3['country_to_product'][(da3['is_converted_y'] >= 14) & (da3['percentage'] > 0)] = 1\n",
      "/var/folders/kv/46dvhwp932v4b692v761hjdc0000gn/T/ipykernel_15356/639592810.py:14: SettingWithCopyWarning: \n",
      "A value is trying to be set on a copy of a slice from a DataFrame\n",
      "\n",
      "See the caveats in the documentation: https://pandas.pydata.org/pandas-docs/stable/user_guide/indexing.html#returning-a-view-versus-a-copy\n",
      "  da3['country_to_product'][(da3['percentage'] > 0.5)] = 2\n",
      "/var/folders/kv/46dvhwp932v4b692v761hjdc0000gn/T/ipykernel_15356/639592810.py:15: SettingWithCopyWarning: \n",
      "A value is trying to be set on a copy of a slice from a DataFrame\n",
      "\n",
      "See the caveats in the documentation: https://pandas.pydata.org/pandas-docs/stable/user_guide/indexing.html#returning-a-view-versus-a-copy\n",
      "  da3['country_to_product'][(da3['is_converted_y'] >= 14) & (da3['percentage'] > 0.5)] = 3\n",
      "/var/folders/kv/46dvhwp932v4b692v761hjdc0000gn/T/ipykernel_15356/639592810.py:25: SettingWithCopyWarning: \n",
      "A value is trying to be set on a copy of a slice from a DataFrame\n",
      "\n",
      "See the caveats in the documentation: https://pandas.pydata.org/pandas-docs/stable/user_guide/indexing.html#returning-a-view-versus-a-copy\n",
      "  train3['country_to_product'][train3['country_to_product'].isna()] = 0\n",
      "/var/folders/kv/46dvhwp932v4b692v761hjdc0000gn/T/ipykernel_15356/639592810.py:26: SettingWithCopyWarning: \n",
      "A value is trying to be set on a copy of a slice from a DataFrame\n",
      "\n",
      "See the caveats in the documentation: https://pandas.pydata.org/pandas-docs/stable/user_guide/indexing.html#returning-a-view-versus-a-copy\n",
      "  test3['country_to_product'][test3['country_to_product'].isna()] = 0\n"
     ]
    }
   ],
   "source": [
    "# country와 product 융합\n",
    "da = train.groupby(['customer_country3', 'product_category']).sum()['is_converted']\n",
    "da2 = train.groupby(['customer_country3', 'product_category']).count()['is_converted']\n",
    "da3 = pd.merge(da, da2, how = 'outer', on = ['customer_country3', 'product_category']).reset_index()\n",
    "da3['percentage'] = da3['is_converted_x'] / da3['is_converted_y']\n",
    "\n",
    "# 그룹 나누기 (cnt = 14 : 75%)\n",
    "### 0: otherwise \n",
    "### 1: cnt >= 14, 확률 > 0\n",
    "### 2: 확률 > 0.5\n",
    "### 3: cnt >= 14, 확률 > 0.5\n",
    "da3['country_to_product'] = 0\n",
    "da3['country_to_product'][(da3['is_converted_y'] >= 14) & (da3['percentage'] > 0)] = 1\n",
    "da3['country_to_product'][(da3['percentage'] > 0.5)] = 2\n",
    "da3['country_to_product'][(da3['is_converted_y'] >= 14) & (da3['percentage'] > 0.5)] = 3\n",
    "\n",
    "# 기준 변수 생성하기\n",
    "ctpd = da3[['customer_country3', 'product_category', 'country_to_product']]\n",
    "\n",
    "# train, test에 합치기\n",
    "train3 = pd.merge(train2, ctpd, how = 'left', on = ['customer_country3', 'product_category'])\n",
    "test3 = pd.merge(test2, ctpd, how = 'left', on = ['customer_country3', 'product_category'])\n",
    "\n",
    "# 없는 값 무조건 0으로 채워야됨\n",
    "train3['country_to_product'][train3['country_to_product'].isna()] = 0\n",
    "test3['country_to_product'][test3['country_to_product'].isna()] = 0\n",
    "\n",
    "train2 = train3.copy()\n",
    "test2 = test3.copy()"
   ]
  },
  {
   "cell_type": "code",
   "execution_count": 15,
   "metadata": {
    "scrolled": true
   },
   "outputs": [
    {
     "data": {
      "text/plain": [
       "bant_submit                    0\n",
       "business_unit                  2\n",
       "customer_idx                   0\n",
       "customer_type              42943\n",
       "enterprise                     0\n",
       "historical_existing_cnt    44115\n",
       "idit_strategic_ver         53624\n",
       "customer_job               18790\n",
       "lead_desc_length               0\n",
       "inquiry_type                2324\n",
       "product_category           20475\n",
       "customer_position          26610\n",
       "response_corporate             0\n",
       "expected_timeline          30720\n",
       "ver_cus                        0\n",
       "ver_pro                        0\n",
       "business_area              39933\n",
       "business_subarea           52134\n",
       "lead_owner                     0\n",
       "is_converted                   0\n",
       "customer_country3              0\n",
       "continent                      0\n",
       "partnership                    0\n",
       "fan_mae_king_yn                0\n",
       "country_to_product             0\n",
       "dtype: int64"
      ]
     },
     "execution_count": 15,
     "metadata": {},
     "output_type": "execute_result"
    }
   ],
   "source": [
    "train2.isna().sum()"
   ]
  },
  {
   "cell_type": "code",
   "execution_count": 16,
   "metadata": {},
   "outputs": [],
   "source": [
    "# 데이터 저장\n",
    "train2.to_csv('train_final.csv', index = False)\n",
    "test2.to_csv('test_final.csv', index = False)"
   ]
  }
 ],
 "metadata": {
  "kernelspec": {
   "display_name": "Python 3 (ipykernel)",
   "language": "python",
   "name": "python3"
  },
  "language_info": {
   "codemirror_mode": {
    "name": "ipython",
    "version": 3
   },
   "file_extension": ".py",
   "mimetype": "text/x-python",
   "name": "python",
   "nbconvert_exporter": "python",
   "pygments_lexer": "ipython3",
   "version": "3.9.17"
  }
 },
 "nbformat": 4,
 "nbformat_minor": 2
}
